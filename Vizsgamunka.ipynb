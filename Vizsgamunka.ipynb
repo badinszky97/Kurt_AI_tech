{
  "nbformat": 4,
  "nbformat_minor": 0,
  "metadata": {
    "colab": {
      "name": "Vizsgamunka.ipynb",
      "provenance": [],
      "collapsed_sections": []
    },
    "kernelspec": {
      "name": "python3",
      "display_name": "Python 3"
    },
    "language_info": {
      "name": "python"
    }
  },
  "cells": [
    {
      "cell_type": "markdown",
      "metadata": {
        "id": "krKTyLzdom6u"
      },
      "source": [
        "#Motorhang felismerő\n",
        "\n",
        "Célja:\n",
        "Előre megtanított hibák detektálása a motor hangjából\n",
        "\n",
        "Adatok: Előre felvett hangminták.\n",
        "1. Alapjárat ~60mp (2.5M adatpont)\n",
        "2. Első gyertya kihagy ~30mp (1.25M adatpont)\n",
        "3. Második gyertya kihagy ~30mp (1.25M adatpont)"
      ]
    },
    {
      "cell_type": "markdown",
      "metadata": {
        "id": "mbNCKzjXsmr9"
      },
      "source": [
        "Normál alapjárati hangminta:\n",
        "<img src='https://raw.githubusercontent.com/badinszky97/Kurt_AI_tech/main/Pics/alapjarat.png' />"
      ]
    },
    {
      "cell_type": "markdown",
      "metadata": {
        "id": "KFWaj1Fhs58_"
      },
      "source": [
        "Hangminta ha az első gyetya kihagy:\n",
        "<img src='https://raw.githubusercontent.com/badinszky97/Kurt_AI_tech/main/Pics/1lehuzva.png' />"
      ]
    },
    {
      "cell_type": "markdown",
      "metadata": {
        "id": "hDtt_IvatCKF"
      },
      "source": [
        "Első ránézésre, nem látni szabad szemmel a különbséget, de van némi priori tudásunk a hangokról:\n",
        "1. Motorfordulat: ~850rpm\n",
        "2. Mikrofon mintavételezése: 44100Hz\n",
        "\n",
        "Ezekből kiszámolható, hogy körülbelül 1500 adatpontban benne kell lennie mind a 4 henger egyszeri gyujtásának.\n",
        "\n",
        "1500 -> Ablakméret"
      ]
    },
    {
      "cell_type": "markdown",
      "metadata": {
        "id": "0Q6LFJXltqIf"
      },
      "source": [
        "## Adatfeldolgozás\n",
        "\n",
        "### Ablakok\n",
        "\n",
        "Egy ~60mp-es hangfájlt ablakméretnyi elemekre bontunk. Ehhez két elvet követtem:\n",
        "\n",
        "1. Az ablakok szorosan követik egymást (kevesebb minta, de nincs ismétlődés)\n",
        "2. **Az ablakok átfedésben vannak (több minta, ismétlődés van benne, de a a robbanások sokkal változatosabban fordulnak elő ablakokon belül)**\n",
        "\n",
        "\n",
        "### Zajszűrés\n",
        "\n",
        "2 (+1) féle módszer tűnt kivitelezhetőnek:\n",
        "\n",
        "1. Egy python library-ból történő zajszűrő algoritmus\n",
        "2. Az adatpontokok átagolása fix szélességben. (10 pontnyi)\n",
        "3. **Néha sok sok munka van benne, hogy zajt vigyünk egy rendszerbe. Örüljünk, hogy benne van :)**"
      ]
    },
    {
      "cell_type": "code",
      "metadata": {
        "id": "yLx6r7Nfu51d"
      },
      "source": [
        "def WavToOverlappedArray(filename=\"\", window_size=1500, overlap = 500):\n",
        "    fs, wave = scipy.io.wavfile.read(filename) \n",
        "    \n",
        "    kimenet = []\n",
        "    i = 0\n",
        "    while i+1*window_size-overlap < len(wave):\n",
        "        kimenet.append(   wave[(i+1*window_size-overlap)  :  (i+2*window_size-overlap)].tolist()   )\n",
        "        i = i+overlap    \n",
        "    return kimenet\n",
        "\n",
        "\n",
        "\n",
        "class DataKeeper:\n",
        "    def __init__(self):\n",
        "        self.RawDatas = []\n",
        "        self.RawLabel = []\n",
        "    def AddNewType(self, data, label):\n",
        "        self.RawDatas.append(data)\n",
        "        self.RawLabel.append(label)\n",
        "    \n",
        "    @property\n",
        "    def KeptTypeCount(self):\n",
        "        return len(self.RawDatas)\n",
        "    \n",
        "    def GetData(self, index):\n",
        "        return self.RawDatas[index]\n",
        "    \n",
        "    def GenerateTrainTestValid(self, alpha=0.8):\n",
        "        #if aplha is 0.8 -> train is 80%, valid is 10%, test is 10%\n",
        "        SumRawDatas = []\n",
        "        #létrehozzuk a teljes adatállományt egy tömbben\n",
        "        for x in range(0, len(self.RawDatas)):\n",
        "            for element in self.RawDatas[x]:\n",
        "                SumRawDatas.append([element,self.RawLabel[x]])\n",
        "        #összekeverjük\n",
        "        random.shuffle(SumRawDatas)\n",
        "        #szétválogatjuk 3 részre\n",
        "        train = SumRawDatas[:int(len(SumRawDatas)*alpha)]\n",
        "        test_valid = SumRawDatas[int(len(SumRawDatas)*alpha):]\n",
        "        test = test_valid[:int(len(test_valid)*0.5)]\n",
        "        valid = test_valid[int(len(test_valid)*0.5):]\n",
        "        \n",
        "        #x_train, y_train létrehozása\n",
        "        self.x_train = []\n",
        "        self.y_train = []\n",
        "        for x in train:\n",
        "            self.x_train.append(x[0])\n",
        "            self.y_train.append(x[1])\n",
        "            \n",
        "        #x_test, y_test létrehozása\n",
        "        self.x_test = []\n",
        "        self.y_test = []\n",
        "        for x in test:\n",
        "            self.x_test.append(x[0])\n",
        "            self.y_test.append(x[1])\n",
        "            \n",
        "        #x_valid, y_valid létrehozása\n",
        "        self.x_valid = []\n",
        "        self.y_valid = []\n",
        "        for x in train:\n",
        "            self.x_valid.append(x[0])\n",
        "            self.y_valid.append(x[1])\n",
        "            \n",
        "        #numpy tömbbe konvertálás\n",
        "        self.x_train = np.array(self.x_train)\n",
        "        self.y_train = np.array(self.y_train)\n",
        "        \n",
        "        self.x_test = np.array(self.x_test)\n",
        "        self.y_test = np.array(self.y_test)\n",
        "        \n",
        "        self.x_valid = np.array(self.x_valid)\n",
        "        self.y_valid = np.array(self.y_valid) \n",
        "        print(\"Kész\")"
      ],
      "execution_count": null,
      "outputs": []
    },
    {
      "cell_type": "markdown",
      "metadata": {
        "id": "D0tOyBfQvIWe"
      },
      "source": [
        "Ezt a kódot használva a classok felvétele ilyen egyszerű:"
      ]
    },
    {
      "cell_type": "code",
      "metadata": {
        "id": "yrjT4LX9vTKJ"
      },
      "source": [
        "Adatgyujto.AddNewType(WavToOverlappedArray(\"sounds/1lehuzva_mono.wav\", ablakmeret, 500), 0)\n",
        "Adatgyujto.AddNewType(WavToOverlappedArray(\"sounds/2lehuzva_mono.wav\", ablakmeret, 500), 1)\n",
        "Adatgyujto.AddNewType(WavToOverlappedArray(\"sounds/alapjarat_mono.wav\", ablakmeret, 500),2)"
      ],
      "execution_count": null,
      "outputs": []
    },
    {
      "cell_type": "markdown",
      "metadata": {
        "id": "3oznVBwMxQdN"
      },
      "source": [
        "#AI Modellek\n",
        "\n",
        "5 féle modelt készítettem és a terv szerint a gyakorlat megmutatja melyik elég gyors és pontos a használathoz.\n",
        "\n",
        "1. RandomForest\n",
        "2. Egyszerű neurális háló\n",
        "3. Bonyolult neurális háló\n",
        "4. LSTM\n",
        "5. 1D Konvolúciós háló"
      ]
    },
    {
      "cell_type": "markdown",
      "metadata": {
        "id": "sPhej6EbyLt1"
      },
      "source": [
        "#RandomForest\n",
        "\n",
        "A Klasszikus módszerek Szent Grálja. Működését figyelembe véve nem biztos, hogy alkalmas lesz a feladat megoldására, de hátha!\n",
        "\n"
      ]
    },
    {
      "cell_type": "code",
      "metadata": {
        "id": "436arm4UyrTR"
      },
      "source": [
        "ablakmeret = 1500\n",
        "\n",
        "Adatgyujto = DataKeeper()\n",
        "\n",
        "Adatgyujto.AddNewType(  WavToOverlappedArray(\"sounds/1lehuzva_mono.wav\", ablakmeret, 500)  , 0)\n",
        "Adatgyujto.AddNewType(  WavToOverlappedArray(\"sounds/2lehuzva_mono.wav\", ablakmeret, 500)  , 1)\n",
        "Adatgyujto.AddNewType(  WavToOverlappedArray(\"sounds/alapjarat_mono.wav\", ablakmeret, 500) , 2)\n",
        "\n",
        "Adatgyujto.GenerateTrainTestValid()\n",
        "\n",
        "model = RandomForestClassifier(n_estimators=100)\n",
        "model.fit(X=Adatgyujto.x_train, y=Adatgyujto.y_train)"
      ],
      "execution_count": null,
      "outputs": []
    },
    {
      "cell_type": "markdown",
      "metadata": {
        "id": "hw2KwiAay42e"
      },
      "source": [
        "A tanítás végén a model 73%-ot teljesített a valid adatokon. Nagyon ígéretes!"
      ]
    },
    {
      "cell_type": "markdown",
      "metadata": {
        "id": "XPdSkh_JziDo"
      },
      "source": [
        "#Egyszerű neurális háló\n",
        "\n",
        "A kérdés adott: Képes-e eltolt mintákat felismerni egy tömbben?"
      ]
    },
    {
      "cell_type": "code",
      "metadata": {
        "id": "RtEci1lNzz9x"
      },
      "source": [
        "hidden_layer_1_size = 50\n",
        "hidden_layer_2_size = 30\n",
        "\n",
        "\n",
        "tf.compat.v1.reset_default_graph()\n",
        "clear_session            \n",
        "\n",
        "\n",
        "# Model\n",
        "#######\n",
        "\n",
        "x = Input(shape=(ablakmeret,))\n",
        "\n",
        "# Hidden layers\n",
        "\n",
        "d0_layer = Dropout(.3)(x)  #érdekes, de működik\n",
        "hidden_layer_1 = Dense(units=hidden_layer_1_size, activation=\"relu\", kernel_regularizer=\"l2\")(d0_layer)\n",
        "d1_layer = Dropout(.2)(hidden_layer_1)\n",
        "hidden_layer_2 = Dense(units=hidden_layer_2_size, activation=\"relu\", kernel_regularizer=\"l2\")(d1_layer)\n",
        "d2_layer = Dropout(.1)(hidden_layer_2)\n",
        "                           \n",
        "# Softmax \n",
        "predictions = Dense(Adatgyujto.KeptTypeCount, activation=\"softmax\")(d2_layer)\n",
        "\n",
        "# Full model\n",
        "model = Model(inputs=x, outputs=predictions)\n",
        "model.summary()"
      ],
      "execution_count": null,
      "outputs": []
    },
    {
      "cell_type": "markdown",
      "metadata": {
        "id": "ytPodh410LAM"
      },
      "source": [
        "<img src='https://raw.githubusercontent.com/badinszky97/Kurt_AI_tech/main/Overlap/KerasModels/SimpleDense_Acc.png' />\n"
      ]
    },
    {
      "cell_type": "markdown",
      "metadata": {
        "id": "jhCn0_GO0jep"
      },
      "source": [
        "Tanítás után a model 71%-ot teljesített a valid adatokon."
      ]
    },
    {
      "cell_type": "markdown",
      "metadata": {
        "id": "U6d6pD1B0s07"
      },
      "source": [
        "#Bonyolult neurális háló\n",
        "\n",
        "Az kód az előzővel azonos, de a két réteg mérete: 150,50\n",
        "\n",
        "<img src=\"https://raw.githubusercontent.com/badinszky97/Kurt_AI_tech/main/Overlap/KerasModels/DeepDense_Acc.png\" />"
      ]
    },
    {
      "cell_type": "markdown",
      "metadata": {
        "id": "kehr7mIc19BT"
      },
      "source": [
        "#LSTM\n",
        "\n",
        "Az első olyan technika amiről tudjuk, hogy elviekben képes lehet megoldani a feladatot."
      ]
    },
    {
      "cell_type": "code",
      "metadata": {
        "id": "EARSV5m_2OJM"
      },
      "source": [
        "tf.compat.v1.reset_default_graph()\n",
        "clear_session            \n",
        "lstm_size = 20\n",
        "\n",
        "# Model\n",
        "#######\n",
        "\n",
        "input_shape=(ablakmeret, 1)\n",
        "\n",
        "x = Input(shape=input_shape)\n",
        "\n",
        "# Hidden layers\n",
        "\n",
        "#d0_layer = Dropout(.3)(x)\n",
        "lstmlayer = LSTM(lstm_size, return_sequences=True)(x)\n",
        "lstmlayer2 = LSTM(lstm_size, return_sequences=False)(lstmlayer)\n",
        "\n",
        "\n",
        "dense1 = Dense(units=50, activation=\"relu\")(lstmlayer2)\n",
        "#dropout3 = Dropout(rate=0.3)(dense1)\n",
        "dense2 = Dense(units=30, activation=\"relu\")(dense1)\n",
        "#dropout4 = Dropout(rate=0.3)(dense2)\n",
        "predictions = Dense(units = 3, activation='softmax')(dense2)\n",
        "\n",
        "model = Model(inputs=x, outputs=predictions)\n",
        "\n",
        "model.summary()"
      ],
      "execution_count": null,
      "outputs": []
    },
    {
      "cell_type": "markdown",
      "metadata": {
        "id": "vMw-up002SSx"
      },
      "source": [
        "Sajnos a tanulási folyamat így néz ki:\n",
        "<img src=\"https://raw.githubusercontent.com/badinszky97/Kurt_AI_tech/main/Overlap/KerasModels/lstm.png\">\n",
        "\n",
        "Úgy tűnik a tanulás során beragadt egy állapotba...."
      ]
    },
    {
      "cell_type": "markdown",
      "metadata": {
        "id": "aHHT2_Kv288v"
      },
      "source": [
        "#1D Konvolúciós háló\n",
        "\n",
        "A legígéretesebb technika erre a célra. A képekben alkalmazott mintakeresése itt is hasznos lehet."
      ]
    },
    {
      "cell_type": "code",
      "metadata": {
        "id": "Y_UxE0ZQ3JlW"
      },
      "source": [
        "tf.compat.v1.reset_default_graph()\n",
        "clear_session            \n",
        "\n",
        "\n",
        "# Model\n",
        "#######\n",
        "\n",
        "input_shape=(ablakmeret, 1)\n",
        "\n",
        "x = Input(shape=input_shape)\n",
        "\n",
        "# Hidden layers\n",
        "\n",
        "#d0_layer = Dropout(.3)(x)\n",
        "conv1 = Conv1D(filters=40,\n",
        "                kernel_size=5,\n",
        "                activation=\"relu\", input_shape=input_shape[1:])(x)\n",
        "\n",
        "pool1 = MaxPool1D(pool_size=64)(conv1)\n",
        "\n",
        "#dropout1 = Dropout(rate=0.3)(pool1)\n",
        "conv2 = Conv1D(filters=10,\n",
        "               kernel_size=3,\n",
        "               activation=\"relu\")(pool1)\n",
        "\n",
        "pool2 = MaxPool1D(pool_size=20, strides=1)(conv2)\n",
        "fllayer = Flatten()(pool2)\n",
        "\n",
        "dense1 = Dense(units=100, activation=\"relu\")(fllayer)\n",
        "#dropout3 = Dropout(rate=0.1)(dense1)\n",
        "dense2 = Dense(units=20, activation=\"relu\")(dense1)\n",
        "#dropout4 = Dropout(rate=0.1)(dense2)\n",
        "predictions = Dense(units = 3, activation='softmax')(dense2)\n",
        "\n",
        "model = Model(inputs=x, outputs=predictions)\n",
        "\n",
        "model.summary()\n",
        "\n",
        "#71,4%:  20,100  10,10  2,2    100    0.3   50   0.3\n",
        "#71,4%:  40,5    10,3   2,2    100    0,7   20   0.5"
      ],
      "execution_count": null,
      "outputs": []
    },
    {
      "cell_type": "markdown",
      "metadata": {
        "id": "N8g8z8T73b7M"
      },
      "source": [
        "A tanítás így alakult: <img src=\"https://raw.githubusercontent.com/badinszky97/Kurt_AI_tech/main/Overlap/KerasModels/1D_conv_long.png\">\n",
        "\n",
        "#A végeredménye: 98%"
      ]
    },
    {
      "cell_type": "markdown",
      "metadata": {
        "id": "NtP-DULJ32kM"
      },
      "source": [
        "#Production környezet\n",
        "\n",
        "A működés: Egy mikrofon felvesz adott mennyiségű adatpontot (15000 pont) és párhuzamosan futtatja az 5 modellen. Ekkor látszik, mennyire értenek egyet.\n",
        "Mivel a modellek alapból párhuzamosítottak egymaguk is, így inkább a modeleket egymás után sorban hagytam érvényesülni.\n",
        "\n",
        "A gyakorlatban kiderült, hogy ez nagyon erőforrásigényes :) Így végül csak 4 model lett futtava:"
      ]
    },
    {
      "cell_type": "code",
      "metadata": {
        "id": "fs44D3a14axw"
      },
      "source": [
        "Model1DConvNet = keras.models.load_model('KerasModels/1DConvNet.h5')\n",
        "Model1DConvNet.summary()\n",
        "\n",
        "ModelDeepDenseNet = keras.models.load_model('KerasModels/DeepDenseNet.h5')\n",
        "ModelDeepDenseNet.summary()\n",
        "\n",
        "ModelLSTM = keras.models.load_model('KerasModels/LSTM.h5')\n",
        "ModelLSTM.summary()\n",
        "\n",
        "ModelSimpleDenseNet = keras.models.load_model('KerasModels/SimpleDenseNet.h5')\n",
        "ModelSimpleDenseNet.summary()\n",
        "\n",
        "clear = lambda: os.system('clear')\n",
        "\n",
        "def Encode(mode, input):\n",
        "\tlabels = [\"1 Lehuzva\", \"2 Lehuzva\", \"Alapjarat\"]\n",
        "\tprint(mode + \" \" + labels[argmax(input)])\n",
        "\t\n",
        "while(True):\n",
        "#\tclear()\n",
        "\trecord = sd.rec(int((1/2.94) * 44100), samplerate=44100, channels=1)\n",
        "\n",
        "\t\n",
        "\tEncode(\"SimpleDense \",  ModelSimpleDenseNet.predict(record[:1500].reshape(1,1500))   )\n",
        "\tEncode(\"DeepDense   \",  ModelDeepDenseNet.predict(record[:1500].reshape(1,1500))   )\n",
        "\tEncode(\"LSTM        \",  ModelLSTM.predict(record.reshape(1,15000))   )\n",
        "\tEncode(\"1DConvNet   \",  Model1DConvNet.predict(record.reshape(1,15000))   )\n",
        "\tK.clear_session()\n"
      ],
      "execution_count": null,
      "outputs": []
    }
  ]
}