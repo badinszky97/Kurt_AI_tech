{
 "cells": [
  {
   "cell_type": "code",
   "execution_count": 34,
   "metadata": {},
   "outputs": [],
   "source": [
    "import random\n",
    "import numpy as np\n",
    "\n",
    "class DataKeeper:\n",
    "    def __init__(self):\n",
    "        self.RawDatas = []\n",
    "        self.RawLabel = []\n",
    "    def AddNewType(self, data, label):\n",
    "        self.RawDatas.append(data)\n",
    "        self.RawLabel.append(label)\n",
    "    \n",
    "    @property\n",
    "    def KeptTypeCount(self):\n",
    "        return len(self.RawDatas)\n",
    "    \n",
    "    def GetData(self, index):\n",
    "        return self.RawDatas[index]\n",
    "    \n",
    "    def GenerateTrainTestValid(self, alpha=0.8):\n",
    "        #if aplha is 0.8 -> train is 80%, valid is 10%, test is 10%\n",
    "        SumRawDatas = []\n",
    "        #létrehozzuk a teljes adatállományt egy tömbben\n",
    "        for x in range(0, len(self.RawDatas)):\n",
    "            for element in self.RawDatas[x]:\n",
    "                SumRawDatas.append([element,self.RawLabel[x]])\n",
    "        #összekeverjük\n",
    "        random.shuffle(SumRawDatas)\n",
    "        #szétválogatjuk 3 részre\n",
    "        train = SumRawDatas[:int(len(SumRawDatas)*alpha)]\n",
    "        test_valid = SumRawDatas[int(len(SumRawDatas)*alpha):]\n",
    "        test = test_valid[:int(len(test_valid)*0.5)]\n",
    "        valid = test_valid[int(len(test_valid)*0.5):]\n",
    "        \n",
    "        #x_train, y_train létrehozása\n",
    "        self.x_train = []\n",
    "        self.y_train = []\n",
    "        for x in train:\n",
    "            self.x_train.append(x[0])\n",
    "            self.y_train.append(x[1])\n",
    "            \n",
    "        #x_test, y_test létrehozása\n",
    "        self.x_test = []\n",
    "        self.y_test = []\n",
    "        for x in test:\n",
    "            self.x_test.append(x[0])\n",
    "            self.y_test.append(x[1])\n",
    "            \n",
    "        #x_valid, y_valid létrehozása\n",
    "        self.x_valid = []\n",
    "        self.y_valid = []\n",
    "        for x in train:\n",
    "            self.x_valid.append(x[0])\n",
    "            self.y_valid.append(x[1])\n",
    "            \n",
    "        #numpy tömbbe konvertálás\n",
    "        self.x_train = np.array(self.x_train)\n",
    "        self.y_train = np.array(self.y_train)\n",
    "        \n",
    "        self.x_test = np.array(self.x_test)\n",
    "        self.y_test = np.array(self.y_test)\n",
    "        \n",
    "        self.x_valid = np.array(self.x_valid)\n",
    "        self.y_valid = np.array(self.y_valid) \n",
    "                "
   ]
  },
  {
   "cell_type": "code",
   "execution_count": 35,
   "metadata": {},
   "outputs": [
    {
     "name": "stdout",
     "output_type": "stream",
     "text": [
      "elotte:0\n",
      "utana:10\n",
      "None\n"
     ]
    }
   ],
   "source": [
    "Adatgyujto = DataKeeper()\n",
    "\n",
    "print(\"elotte:\" + str(Adatgyujto.KeptTypeCount))\n",
    "Adatgyujto.AddNewType([  [0 , 0, 0] ,[ 1, 1, 1] ,[2 ,2 , 2] ,[3 ,3 , 3]    ],0)\n",
    "Adatgyujto.AddNewType([  [10,10,10] ,[11,11,11] ,[12,12,12] ,[13,13,13]    ],1)\n",
    "Adatgyujto.AddNewType([  [20,20,20] ,[21,21,21] ,[22,22,22] ,[23,23,23]    ],2)\n",
    "Adatgyujto.AddNewType([  [30,30,30] ,[31,31,31] ,[32,32,32] ,[33,33,33]    ],3)\n",
    "Adatgyujto.AddNewType([  [40,40,40] ,[41,41,41] ,[42,42,42] ,[43,43,43]    ],4)\n",
    "Adatgyujto.AddNewType([  [50,50,50] ,[51,51,51] ,[52,52,52] ,[53,53,53]    ],5)\n",
    "Adatgyujto.AddNewType([  [60,60,60] ,[61,61,61] ,[62,62,62] ,[63,63,63]    ],6)\n",
    "Adatgyujto.AddNewType([  [70,70,70] ,[71,71,71] ,[72,72,72] ,[73,73,73]    ],7)\n",
    "Adatgyujto.AddNewType([  [80,80,80] ,[81,81,81] ,[82,82,82] ,[83,83,83]    ],8)\n",
    "Adatgyujto.AddNewType([  [90,90,90] ,[91,91,91] ,[92,92,92] ,[93,93,93]    ],9)\n",
    "print(\"utana:\" + str(Adatgyujto.KeptTypeCount))\n",
    "\n",
    "len(Adatgyujto.GetData(0))\n",
    "\n",
    "print(Adatgyujto.GenerateTrainTestValid())"
   ]
  },
  {
   "cell_type": "code",
   "execution_count": 36,
   "metadata": {},
   "outputs": [
    {
     "data": {
      "text/plain": [
       "[[73, 73, 73],\n",
       " [32, 32, 32],\n",
       " [82, 82, 82],\n",
       " [41, 41, 41],\n",
       " [90, 90, 90],\n",
       " [20, 20, 20],\n",
       " [60, 60, 60],\n",
       " [93, 93, 93],\n",
       " [13, 13, 13],\n",
       " [10, 10, 10],\n",
       " [63, 63, 63],\n",
       " [70, 70, 70],\n",
       " [53, 53, 53],\n",
       " [40, 40, 40],\n",
       " [0, 0, 0],\n",
       " [11, 11, 11],\n",
       " [50, 50, 50],\n",
       " [52, 52, 52],\n",
       " [62, 62, 62],\n",
       " [42, 42, 42],\n",
       " [61, 61, 61],\n",
       " [21, 21, 21],\n",
       " [31, 31, 31],\n",
       " [30, 30, 30],\n",
       " [12, 12, 12],\n",
       " [22, 22, 22],\n",
       " [33, 33, 33],\n",
       " [2, 2, 2],\n",
       " [51, 51, 51],\n",
       " [81, 81, 81],\n",
       " [43, 43, 43],\n",
       " [72, 72, 72]]"
      ]
     },
     "execution_count": 36,
     "metadata": {},
     "output_type": "execute_result"
    }
   ],
   "source": [
    "Adatgyujto.x_valid"
   ]
  },
  {
   "cell_type": "code",
   "execution_count": 37,
   "metadata": {},
   "outputs": [
    {
     "data": {
      "text/plain": [
       "[7,\n",
       " 3,\n",
       " 8,\n",
       " 4,\n",
       " 9,\n",
       " 2,\n",
       " 6,\n",
       " 9,\n",
       " 1,\n",
       " 1,\n",
       " 6,\n",
       " 7,\n",
       " 5,\n",
       " 4,\n",
       " 0,\n",
       " 1,\n",
       " 5,\n",
       " 5,\n",
       " 6,\n",
       " 4,\n",
       " 6,\n",
       " 2,\n",
       " 3,\n",
       " 3,\n",
       " 1,\n",
       " 2,\n",
       " 3,\n",
       " 0,\n",
       " 5,\n",
       " 8,\n",
       " 4,\n",
       " 7]"
      ]
     },
     "execution_count": 37,
     "metadata": {},
     "output_type": "execute_result"
    }
   ],
   "source": [
    "Adatgyujto.y_valid"
   ]
  },
  {
   "cell_type": "code",
   "execution_count": null,
   "metadata": {},
   "outputs": [],
   "source": []
  }
 ],
 "metadata": {
  "kernelspec": {
   "display_name": "Python 3",
   "language": "python",
   "name": "python3"
  },
  "language_info": {
   "codemirror_mode": {
    "name": "ipython",
    "version": 3
   },
   "file_extension": ".py",
   "mimetype": "text/x-python",
   "name": "python",
   "nbconvert_exporter": "python",
   "pygments_lexer": "ipython3",
   "version": "3.8.5"
  }
 },
 "nbformat": 4,
 "nbformat_minor": 4
}
