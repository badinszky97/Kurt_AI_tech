{
 "cells": [
  {
   "cell_type": "code",
   "execution_count": 3,
   "metadata": {},
   "outputs": [],
   "source": [
    "import random\n",
    "import numpy as np\n",
    "import scipy.io.wavfile\n",
    "import scipy.signal\n",
    "import numpy as np\n",
    "from tensorflow.keras.layers import Input, Dense\n",
    "from tensorflow.keras.models import Model\n",
    "from tensorflow.keras.optimizers import Adadelta, Adam\n",
    "from tensorflow.keras.losses import sparse_categorical_crossentropy #TODO what to import here?\n",
    "from tensorflow.keras.regularizers import l1\n",
    "from tensorflow.keras.backend import clear_session\n",
    "import tensorflow as tf\n",
    "from tensorflow.keras.layers import Dropout\n",
    "\n",
    "\n",
    "class DataKeeper:\n",
    "    def __init__(self):\n",
    "        self.RawDatas = []\n",
    "        self.RawLabel = []\n",
    "    def AddNewType(self, data, label):\n",
    "        self.RawDatas.append(data)\n",
    "        self.RawLabel.append(label)\n",
    "    \n",
    "    @property\n",
    "    def KeptTypeCount(self):\n",
    "        return len(self.RawDatas)\n",
    "    \n",
    "    def GetData(self, index):\n",
    "        return self.RawDatas[index]\n",
    "    \n",
    "    def GenerateTrainTestValid(self, alpha=0.8):\n",
    "        #if aplha is 0.8 -> train is 80%, valid is 10%, test is 10%\n",
    "        SumRawDatas = []\n",
    "        #létrehozzuk a teljes adatállományt egy tömbben\n",
    "        for x in range(0, len(self.RawDatas)):\n",
    "            for element in self.RawDatas[x]:\n",
    "                SumRawDatas.append([element,self.RawLabel[x]])\n",
    "        #összekeverjük\n",
    "        random.shuffle(SumRawDatas)\n",
    "        #szétválogatjuk 3 részre\n",
    "        train = SumRawDatas[:int(len(SumRawDatas)*alpha)]\n",
    "        test_valid = SumRawDatas[int(len(SumRawDatas)*alpha):]\n",
    "        test = test_valid[:int(len(test_valid)*0.5)]\n",
    "        valid = test_valid[int(len(test_valid)*0.5):]\n",
    "        \n",
    "        #x_train, y_train létrehozása\n",
    "        self.x_train = []\n",
    "        self.y_train = []\n",
    "        for x in train:\n",
    "            self.x_train.append(x[0])\n",
    "            self.y_train.append(x[1])\n",
    "            \n",
    "        #x_test, y_test létrehozása\n",
    "        self.x_test = []\n",
    "        self.y_test = []\n",
    "        for x in test:\n",
    "            self.x_test.append(x[0])\n",
    "            self.y_test.append(x[1])\n",
    "            \n",
    "        #x_valid, y_valid létrehozása\n",
    "        self.x_valid = []\n",
    "        self.y_valid = []\n",
    "        for x in train:\n",
    "            self.x_valid.append(x[0])\n",
    "            self.y_valid.append(x[1])\n",
    "            \n",
    "        #numpy tömbbe konvertálás\n",
    "        self.x_train = np.array(self.x_train)\n",
    "        self.y_train = np.array(self.y_train)\n",
    "        \n",
    "        self.x_test = np.array(self.x_test)\n",
    "        self.y_test = np.array(self.y_test)\n",
    "        \n",
    "        self.x_valid = np.array(self.x_valid)\n",
    "        self.y_valid = np.array(self.y_valid) \n",
    "        print(\"Kész\")"
   ]
  },
  {
   "cell_type": "code",
   "execution_count": 4,
   "metadata": {},
   "outputs": [],
   "source": [
    "def WavToSplittedArray(filename=\"\", window_size = 100):\n",
    "    fs, wave = scipy.io.wavfile.read(filename) \n",
    "    windows_count = int(len(wave)/window_size)\n",
    "\n",
    "    kimenet = []\n",
    "    for i in range(windows_count):\n",
    "      buffer = []\n",
    "      for x in range(window_size):\n",
    "        buffer.append(wave[i*window_size+x])\n",
    "      kimenet.append(buffer)\n",
    "    return kimenet"
   ]
  },
  {
   "cell_type": "code",
   "execution_count": 5,
   "metadata": {},
   "outputs": [],
   "source": [
    "ablakmeret = 1500\n",
    "\n",
    "Adatgyujto = DataKeeper()\n",
    "\n",
    "Adatgyujto.AddNewType(WavToSplittedArray(\"lada/monok/1lehuzva_mono.wav\", ablakmeret), 0)\n",
    "Adatgyujto.AddNewType(WavToSplittedArray(\"lada/monok/2lehuzva_mono.wav\", ablakmeret), 1)\n",
    "Adatgyujto.AddNewType(WavToSplittedArray(\"lada/monok/alapjarat_mono.wav\", ablakmeret),2)\n"
   ]
  },
  {
   "cell_type": "code",
   "execution_count": 6,
   "metadata": {},
   "outputs": [
    {
     "name": "stdout",
     "output_type": "stream",
     "text": [
      "Kész\n"
     ]
    }
   ],
   "source": [
    "Adatgyujto.GenerateTrainTestValid()"
   ]
  },
  {
   "cell_type": "code",
   "execution_count": 23,
   "metadata": {},
   "outputs": [
    {
     "name": "stdout",
     "output_type": "stream",
     "text": [
      "Model: \"model\"\n",
      "_________________________________________________________________\n",
      "Layer (type)                 Output Shape              Param #   \n",
      "=================================================================\n",
      "input_5 (InputLayer)         [(None, 1500)]            0         \n",
      "_________________________________________________________________\n",
      "dropout (Dropout)            (None, 1500)              0         \n",
      "_________________________________________________________________\n",
      "dense (Dense)                (None, 50)                75050     \n",
      "_________________________________________________________________\n",
      "dropout_1 (Dropout)          (None, 50)                0         \n",
      "_________________________________________________________________\n",
      "dense_1 (Dense)              (None, 30)                1530      \n",
      "_________________________________________________________________\n",
      "dropout_2 (Dropout)          (None, 30)                0         \n",
      "_________________________________________________________________\n",
      "dense_2 (Dense)              (None, 3)                 93        \n",
      "=================================================================\n",
      "Total params: 76,673\n",
      "Trainable params: 76,673\n",
      "Non-trainable params: 0\n",
      "_________________________________________________________________\n"
     ]
    }
   ],
   "source": [
    "hidden_layer_1_size = 50\n",
    "hidden_layer_2_size = 30\n",
    "\n",
    "\n",
    "tf.compat.v1.reset_default_graph() # It's good practice to clea and reset everything\n",
    "clear_session            # even using Keras\n",
    "\n",
    "\n",
    "# Model\n",
    "#######\n",
    "\n",
    "x = Input(shape=(ablakmeret,))\n",
    "\n",
    "# Hidden layers\n",
    "\n",
    "d0_layer = Dropout(.3)(x)\n",
    "\n",
    "hidden_layer_1 = Dense(units=hidden_layer_1_size, activation=\"relu\", kernel_regularizer=\"l2\")(d0_layer)\n",
    "\n",
    "d1_layer = Dropout(.3)(hidden_layer_1)\n",
    "    \n",
    "hidden_layer_2 = Dense(units=hidden_layer_2_size, activation=\"relu\", kernel_regularizer=\"l2\")(d1_layer)\n",
    "\n",
    "d2_layer = Dropout(.3)(hidden_layer_2)\n",
    "                        \n",
    "\n",
    "    \n",
    "# Softmax \n",
    "\n",
    "predictions = Dense(Adatgyujto.KeptTypeCount, activation=\"softmax\")(d2_layer) #TODO: What activation?\n",
    "\n",
    "# Full model\n",
    "\n",
    "model = Model(inputs=x, outputs=predictions)\n",
    "\n",
    "model.summary()"
   ]
  },
  {
   "cell_type": "code",
   "execution_count": null,
   "metadata": {},
   "outputs": [
    {
     "name": "stdout",
     "output_type": "stream",
     "text": [
      "Epoch 1/100\n",
      "34/34 [==============================] - 1s 7ms/step - loss: 3943.9463 - accuracy: 0.3378 - val_loss: 923.2137 - val_accuracy: 0.6948\n",
      "Epoch 2/100\n",
      "34/34 [==============================] - 0s 5ms/step - loss: 1565.2632 - accuracy: 0.5560 - val_loss: 425.1242 - val_accuracy: 0.6900\n",
      "Epoch 3/100\n",
      "34/34 [==============================] - 0s 5ms/step - loss: 1056.4561 - accuracy: 0.5553 - val_loss: 258.2691 - val_accuracy: 0.6912\n",
      "Epoch 4/100\n",
      "34/34 [==============================] - 0s 5ms/step - loss: 753.7239 - accuracy: 0.5753 - val_loss: 173.5921 - val_accuracy: 0.6996\n",
      "Epoch 5/100\n",
      "34/34 [==============================] - 0s 5ms/step - loss: 537.8216 - accuracy: 0.5690 - val_loss: 98.6309 - val_accuracy: 0.6908\n",
      "Epoch 6/100\n",
      "34/34 [==============================] - 0s 5ms/step - loss: 401.3477 - accuracy: 0.5720 - val_loss: 65.5469 - val_accuracy: 0.7006\n",
      "Epoch 7/100\n",
      "34/34 [==============================] - 0s 5ms/step - loss: 268.2853 - accuracy: 0.5992 - val_loss: 39.9446 - val_accuracy: 0.6952\n",
      "Epoch 8/100\n",
      "34/34 [==============================] - 0s 5ms/step - loss: 199.2538 - accuracy: 0.5965 - val_loss: 26.3615 - val_accuracy: 0.6930\n"
     ]
    }
   ],
   "source": [
    "# Loss \n",
    "\n",
    "loss = sparse_categorical_crossentropy#TODO use the imported loss!\n",
    "\n",
    "# Optimizer\n",
    "\n",
    "optimizer = Adam() # A \"smart\" SGD variant \n",
    " \n",
    "# Compilation\n",
    "#############\n",
    "\n",
    "model.compile(optimizer=optimizer, loss=loss, metrics=[\"accuracy\"]) #TODO what to measure here?\n",
    "\n",
    "history = model.fit(x=Adatgyujto.x_train, y=Adatgyujto.y_train,\n",
    "                    validation_data=(Adatgyujto.x_valid, Adatgyujto.y_valid),\n",
    "                    epochs=100,\n",
    "                    batch_size=150)"
   ]
  },
  {
   "cell_type": "code",
   "execution_count": 21,
   "metadata": {},
   "outputs": [
    {
     "name": "stdout",
     "output_type": "stream",
     "text": [
      "ennek kene hogy legyen: 2\n"
     ]
    },
    {
     "data": {
      "text/plain": [
       "array([[0.14811009, 0.14734435, 0.7045456 ]], dtype=float32)"
      ]
     },
     "execution_count": 21,
     "metadata": {},
     "output_type": "execute_result"
    }
   ],
   "source": [
    "predikalando = 10\n",
    "\n",
    "pred = model.predict(Adatgyujto.x_test[predikalando].reshape(1,ablakmeret))\n",
    "\n",
    "print(\"ennek kene hogy legyen: \" + str(Adatgyujto.y_test[predikalando]))\n",
    "pred"
   ]
  },
  {
   "cell_type": "code",
   "execution_count": 22,
   "metadata": {},
   "outputs": [
    {
     "data": {
      "image/png": "[encoded data removed]",
      "text/plain": [
       "<Figure size 432x288 with 1 Axes>"
      ]
     },
     "metadata": {
      "needs_background": "light"
     },
     "output_type": "display_data"
    },
    {
     "data": {
      "image/png": "[encoded data removed]",
      "text/plain": [
       "<Figure size 432x288 with 1 Axes>"
      ]
     },
     "metadata": {
      "needs_background": "light"
     },
     "output_type": "display_data"
    }
   ],
   "source": [
    "import matplotlib.pyplot as plt\n",
    "\n",
    "def display_history(history):\n",
    "    plt.plot(history.history['accuracy']) #TODO what to measure here for training?\n",
    "    plt.plot(history.history['val_accuracy']) #TODO what to measure here for validation?\n",
    "    plt.title('Model accuracy')\n",
    "    plt.ylabel('accuracy')\n",
    "    plt.xlabel('epoch')\n",
    "    plt.legend(['train', 'valid'], loc='upper left')\n",
    "    plt.show()\n",
    "    plt.plot(history.history['loss'])\n",
    "    plt.plot(history.history['val_loss'])\n",
    "    plt.title('Model loss')\n",
    "    plt.ylabel('loss')\n",
    "    plt.xlabel('epoch')\n",
    "    plt.legend(['train', 'valid'], loc='upper left')\n",
    "    plt.show()\n",
    "    \n",
    "display_history(history)"
   ]
  },
  {
   "cell_type": "code",
   "execution_count": 9,
   "metadata": {},
   "outputs": [
    {
     "name": "stdout",
     "output_type": "stream",
     "text": [
      "INFO:tensorflow:Assets written to: KerasModels/SimpleDenseNet/assets\n"
     ]
    }
   ],
   "source": [
    "model.save(\"KerasModels/SimpleDenseNet\")"
   ]
  },
  {
   "cell_type": "code",
   "execution_count": null,
   "metadata": {},
   "outputs": [],
   "source": []
  }
 ],
 "metadata": {
  "kernelspec": {
   "display_name": "Python 3",
   "language": "python",
   "name": "python3"
  },
  "language_info": {
   "codemirror_mode": {
    "name": "ipython",
    "version": 3
   },
   "file_extension": ".py",
   "mimetype": "text/x-python",
   "name": "python",
   "nbconvert_exporter": "python",
   "pygments_lexer": "ipython3",
   "version": "3.8.5"
  }
 },
 "nbformat": 4,
 "nbformat_minor": 4
}
