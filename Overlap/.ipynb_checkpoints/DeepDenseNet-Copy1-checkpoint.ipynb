{
 "cells": [
  {
   "cell_type": "code",
   "execution_count": 1,
   "metadata": {},
   "outputs": [],
   "source": [
    "import random\n",
    "import numpy as np\n",
    "import scipy.io.wavfile\n",
    "import scipy.signal\n",
    "import numpy as np\n",
    "from tensorflow.keras.layers import Input, Dense\n",
    "from tensorflow.keras.models import Model\n",
    "from tensorflow.keras.optimizers import Adadelta, Adam\n",
    "from tensorflow.keras.losses import sparse_categorical_crossentropy #TODO what to import here?\n",
    "from tensorflow.keras.regularizers import l1\n",
    "from tensorflow.keras.backend import clear_session\n",
    "import tensorflow as tf\n",
    "from tensorflow.keras.layers import Dropout\n",
    "\n",
    "\n",
    "class DataKeeper:\n",
    "    def __init__(self):\n",
    "        self.RawDatas = []\n",
    "        self.RawLabel = []\n",
    "    def AddNewType(self, data, label):\n",
    "        self.RawDatas.append(data)\n",
    "        self.RawLabel.append(label)\n",
    "    \n",
    "    @property\n",
    "    def KeptTypeCount(self):\n",
    "        return len(self.RawDatas)\n",
    "    \n",
    "    def GetData(self, index):\n",
    "        return self.RawDatas[index]\n",
    "    \n",
    "    def GenerateTrainTestValid(self, alpha=0.8):\n",
    "        #if aplha is 0.8 -> train is 80%, valid is 10%, test is 10%\n",
    "        SumRawDatas = []\n",
    "        #létrehozzuk a teljes adatállományt egy tömbben\n",
    "        for x in range(0, len(self.RawDatas)):\n",
    "            for element in self.RawDatas[x]:\n",
    "                SumRawDatas.append([element,self.RawLabel[x]])\n",
    "        #összekeverjük\n",
    "        random.shuffle(SumRawDatas)\n",
    "        #szétválogatjuk 3 részre\n",
    "        train = SumRawDatas[:int(len(SumRawDatas)*alpha)]\n",
    "        test_valid = SumRawDatas[int(len(SumRawDatas)*alpha):]\n",
    "        test = test_valid[:int(len(test_valid)*0.5)]\n",
    "        valid = test_valid[int(len(test_valid)*0.5):]\n",
    "        \n",
    "        #x_train, y_train létrehozása\n",
    "        self.x_train = []\n",
    "        self.y_train = []\n",
    "        for x in train:\n",
    "            self.x_train.append(x[0])\n",
    "            self.y_train.append(x[1])\n",
    "            \n",
    "        #x_test, y_test létrehozása\n",
    "        self.x_test = []\n",
    "        self.y_test = []\n",
    "        for x in test:\n",
    "            self.x_test.append(x[0])\n",
    "            self.y_test.append(x[1])\n",
    "            \n",
    "        #x_valid, y_valid létrehozása\n",
    "        self.x_valid = []\n",
    "        self.y_valid = []\n",
    "        for x in train:\n",
    "            self.x_valid.append(x[0])\n",
    "            self.y_valid.append(x[1])\n",
    "            \n",
    "        #numpy tömbbe konvertálás\n",
    "        self.x_train = np.array(self.x_train)\n",
    "        self.y_train = np.array(self.y_train)\n",
    "        \n",
    "        self.x_test = np.array(self.x_test)\n",
    "        self.y_test = np.array(self.y_test)\n",
    "        \n",
    "        self.x_valid = np.array(self.x_valid)\n",
    "        self.y_valid = np.array(self.y_valid) \n",
    "        print(\"Kész\")"
   ]
  },
  {
   "cell_type": "code",
   "execution_count": 2,
   "metadata": {},
   "outputs": [],
   "source": [
    "def WavToSplittedArray(filename=\"\", window_size = 100):\n",
    "    fs, wave = scipy.io.wavfile.read(filename) \n",
    "    windows_count = int(len(wave)/window_size)\n",
    "\n",
    "    kimenet = []\n",
    "    for i in range(windows_count):\n",
    "      buffer = []\n",
    "      for x in range(window_size):\n",
    "        buffer.append(wave[i*window_size+x])\n",
    "      kimenet.append(buffer)\n",
    "    return kimenet"
   ]
  },
  {
   "cell_type": "code",
   "execution_count": 3,
   "metadata": {},
   "outputs": [],
   "source": [
    "ablakmeret = 1500\n",
    "\n",
    "Adatgyujto = DataKeeper()\n",
    "\n",
    "Adatgyujto.AddNewType(WavToSplittedArray(\"lada/monok/1lehuzva_mono.wav\", ablakmeret), 0)\n",
    "Adatgyujto.AddNewType(WavToSplittedArray(\"lada/monok/2lehuzva_mono.wav\", ablakmeret), 1)\n",
    "Adatgyujto.AddNewType(WavToSplittedArray(\"lada/monok/alapjarat_mono.wav\", ablakmeret),2)\n"
   ]
  },
  {
   "cell_type": "code",
   "execution_count": 4,
   "metadata": {},
   "outputs": [
    {
     "name": "stdout",
     "output_type": "stream",
     "text": [
      "Kész\n"
     ]
    }
   ],
   "source": [
    "Adatgyujto.GenerateTrainTestValid()"
   ]
  },
  {
   "cell_type": "code",
   "execution_count": 5,
   "metadata": {},
   "outputs": [
    {
     "name": "stdout",
     "output_type": "stream",
     "text": [
      "Model: \"model\"\n",
      "_________________________________________________________________\n",
      "Layer (type)                 Output Shape              Param #   \n",
      "=================================================================\n",
      "input_1 (InputLayer)         [(None, 1500)]            0         \n",
      "_________________________________________________________________\n",
      "dropout (Dropout)            (None, 1500)              0         \n",
      "_________________________________________________________________\n",
      "dense (Dense)                (None, 150)               225150    \n",
      "_________________________________________________________________\n",
      "dropout_1 (Dropout)          (None, 150)               0         \n",
      "_________________________________________________________________\n",
      "dense_1 (Dense)              (None, 50)                7550      \n",
      "_________________________________________________________________\n",
      "dropout_2 (Dropout)          (None, 50)                0         \n",
      "_________________________________________________________________\n",
      "dense_2 (Dense)              (None, 3)                 153       \n",
      "=================================================================\n",
      "Total params: 232,853\n",
      "Trainable params: 232,853\n",
      "Non-trainable params: 0\n",
      "_________________________________________________________________\n"
     ]
    }
   ],
   "source": [
    "hidden_layer_1_size = 150\n",
    "hidden_layer_2_size = 50\n",
    "\n",
    "\n",
    "tf.compat.v1.reset_default_graph() # It's good practice to clea and reset everything\n",
    "clear_session            # even using Keras\n",
    "\n",
    "\n",
    "# Model\n",
    "#######\n",
    "\n",
    "x = Input(shape=(ablakmeret,))\n",
    "\n",
    "# Hidden layers\n",
    "\n",
    "d0_layer = Dropout(.3)(x)\n",
    "\n",
    "hidden_layer_1 = Dense(units=hidden_layer_1_size, activation=\"relu\", kernel_regularizer=\"l2\")(d0_layer)\n",
    "\n",
    "d1_layer = Dropout(.3)(hidden_layer_1)\n",
    "    \n",
    "hidden_layer_2 = Dense(units=hidden_layer_2_size, activation=\"relu\", kernel_regularizer=\"l2\")(d1_layer)\n",
    "\n",
    "d2_layer = Dropout(.3)(hidden_layer_2)\n",
    "                        \n",
    "\n",
    "    \n",
    "# Softmax \n",
    "\n",
    "predictions = Dense(Adatgyujto.KeptTypeCount, activation=\"softmax\")(d2_layer) #TODO: What activation?\n",
    "\n",
    "# Full model\n",
    "\n",
    "model = Model(inputs=x, outputs=predictions)\n",
    "\n",
    "model.summary()"
   ]
  },
  {
   "cell_type": "code",
   "execution_count": null,
   "metadata": {},
   "outputs": [
    {
     "name": "stdout",
     "output_type": "stream",
     "text": [
      "Epoch 1/100\n",
      "34/34 [==============================] - 1s 15ms/step - loss: 2593.4635 - accuracy: 0.5318 - val_loss: 472.2747 - val_accuracy: 0.7022\n",
      "Epoch 2/100\n",
      "34/34 [==============================] - 0s 7ms/step - loss: 1113.9754 - accuracy: 0.6017 - val_loss: 195.9427 - val_accuracy: 0.7220\n",
      "Epoch 3/100\n",
      "34/34 [==============================] - 0s 8ms/step - loss: 550.0410 - accuracy: 0.6116 - val_loss: 86.1758 - val_accuracy: 0.6970\n",
      "Epoch 4/100\n",
      "34/34 [==============================] - 0s 8ms/step - loss: 334.1932 - accuracy: 0.5828 - val_loss: 32.7515 - val_accuracy: 0.6543\n",
      "Epoch 5/100\n",
      "34/34 [==============================] - 0s 8ms/step - loss: 163.2331 - accuracy: 0.5754 - val_loss: 12.2371 - val_accuracy: 0.5478\n",
      "Epoch 6/100\n",
      "34/34 [==============================] - 0s 8ms/step - loss: 88.6267 - accuracy: 0.5387 - val_loss: 6.7694 - val_accuracy: 0.6922\n",
      "Epoch 7/100\n",
      "34/34 [==============================] - 0s 8ms/step - loss: 52.8187 - accuracy: 0.6477 - val_loss: 5.1660 - val_accuracy: 0.6952\n",
      "Epoch 8/100\n",
      "34/34 [==============================] - 0s 8ms/step - loss: 34.1706 - accuracy: 0.6607 - val_loss: 4.7637 - val_accuracy: 0.7074\n",
      "Epoch 9/100\n",
      "34/34 [==============================] - 0s 8ms/step - loss: 22.6709 - accuracy: 0.6865 - val_loss: 4.5334 - val_accuracy: 0.7082\n",
      "Epoch 10/100\n",
      "34/34 [==============================] - 0s 8ms/step - loss: 17.6534 - accuracy: 0.6862 - val_loss: 4.4809 - val_accuracy: 0.7068\n",
      "Epoch 11/100\n",
      "34/34 [==============================] - 0s 8ms/step - loss: 15.2681 - accuracy: 0.7001 - val_loss: 4.4518 - val_accuracy: 0.7054\n",
      "Epoch 12/100\n",
      "34/34 [==============================] - 0s 8ms/step - loss: 14.1816 - accuracy: 0.6991 - val_loss: 4.4327 - val_accuracy: 0.7072\n",
      "Epoch 13/100\n",
      "34/34 [==============================] - 0s 8ms/step - loss: 11.2302 - accuracy: 0.6933 - val_loss: 4.4168 - val_accuracy: 0.7064\n",
      "Epoch 14/100\n",
      "34/34 [==============================] - 0s 8ms/step - loss: 9.6413 - accuracy: 0.6982 - val_loss: 4.4089 - val_accuracy: 0.7070\n",
      "Epoch 15/100\n",
      "34/34 [==============================] - 0s 7ms/step - loss: 9.8230 - accuracy: 0.6910 - val_loss: 4.3944 - val_accuracy: 0.7070\n",
      "Epoch 16/100\n",
      "34/34 [==============================] - 0s 8ms/step - loss: 10.3769 - accuracy: 0.6974 - val_loss: 4.3839 - val_accuracy: 0.7072\n",
      "Epoch 17/100\n",
      "34/34 [==============================] - 0s 7ms/step - loss: 9.4395 - accuracy: 0.6983 - val_loss: 4.3770 - val_accuracy: 0.7072\n",
      "Epoch 18/100\n",
      "34/34 [==============================] - 0s 10ms/step - loss: 7.7834 - accuracy: 0.7039 - val_loss: 4.3687 - val_accuracy: 0.7074\n",
      "Epoch 19/100\n",
      "34/34 [==============================] - 0s 9ms/step - loss: 6.7238 - accuracy: 0.7015 - val_loss: 4.3640 - val_accuracy: 0.7074\n",
      "Epoch 20/100\n",
      "34/34 [==============================] - 0s 8ms/step - loss: 6.4723 - accuracy: 0.7069 - val_loss: 4.3603 - val_accuracy: 0.7074\n",
      "Epoch 21/100\n",
      "34/34 [==============================] - 0s 9ms/step - loss: 6.4492 - accuracy: 0.7075 - val_loss: 4.3571 - val_accuracy: 0.7074\n",
      "Epoch 22/100\n",
      "34/34 [==============================] - 0s 8ms/step - loss: 6.2089 - accuracy: 0.7010 - val_loss: 4.3552 - val_accuracy: 0.7074\n",
      "Epoch 23/100\n",
      "34/34 [==============================] - 0s 8ms/step - loss: 5.7425 - accuracy: 0.7036 - val_loss: 4.3517 - val_accuracy: 0.7074\n",
      "Epoch 24/100\n",
      "34/34 [==============================] - 0s 8ms/step - loss: 5.7147 - accuracy: 0.7057 - val_loss: 4.3485 - val_accuracy: 0.7074\n",
      "Epoch 25/100\n",
      "34/34 [==============================] - 0s 8ms/step - loss: 5.6361 - accuracy: 0.6992 - val_loss: 4.3466 - val_accuracy: 0.7074\n",
      "Epoch 26/100\n",
      "34/34 [==============================] - 0s 10ms/step - loss: 5.0268 - accuracy: 0.7050 - val_loss: 4.3438 - val_accuracy: 0.7074\n",
      "Epoch 27/100\n",
      "34/34 [==============================] - 0s 9ms/step - loss: 5.6062 - accuracy: 0.7101 - val_loss: 4.3424 - val_accuracy: 0.7074\n",
      "Epoch 28/100\n",
      "34/34 [==============================] - 0s 9ms/step - loss: 5.1040 - accuracy: 0.7102 - val_loss: 4.3413 - val_accuracy: 0.7074\n",
      "Epoch 29/100\n",
      "34/34 [==============================] - 0s 9ms/step - loss: 5.2839 - accuracy: 0.7059 - val_loss: 4.3422 - val_accuracy: 0.7074\n",
      "Epoch 30/100\n",
      "34/34 [==============================] - 0s 7ms/step - loss: 5.5132 - accuracy: 0.7060 - val_loss: 4.3395 - val_accuracy: 0.7074\n",
      "Epoch 31/100\n",
      "34/34 [==============================] - 0s 9ms/step - loss: 6.0468 - accuracy: 0.7184 - val_loss: 4.3388 - val_accuracy: 0.7074\n",
      "Epoch 32/100\n",
      "34/34 [==============================] - 0s 9ms/step - loss: 4.8112 - accuracy: 0.7116 - val_loss: 4.3379 - val_accuracy: 0.7074\n",
      "Epoch 33/100\n",
      "34/34 [==============================] - 0s 8ms/step - loss: 4.8393 - accuracy: 0.7098 - val_loss: 4.3367 - val_accuracy: 0.7074\n",
      "Epoch 34/100\n",
      "34/34 [==============================] - 0s 8ms/step - loss: 5.0657 - accuracy: 0.7119 - val_loss: 4.3367 - val_accuracy: 0.7074\n",
      "Epoch 35/100\n",
      "34/34 [==============================] - 0s 8ms/step - loss: 4.5755 - accuracy: 0.7076 - val_loss: 4.3362 - val_accuracy: 0.7074\n",
      "Epoch 36/100\n",
      "34/34 [==============================] - 0s 8ms/step - loss: 5.9874 - accuracy: 0.7050 - val_loss: 4.3338 - val_accuracy: 0.7074\n",
      "Epoch 37/100\n",
      "34/34 [==============================] - 0s 8ms/step - loss: 5.6517 - accuracy: 0.7040 - val_loss: 4.3330 - val_accuracy: 0.7074\n",
      "Epoch 38/100\n",
      "34/34 [==============================] - 0s 8ms/step - loss: 5.5936 - accuracy: 0.7080 - val_loss: 4.3324 - val_accuracy: 0.7074\n",
      "Epoch 39/100\n",
      "34/34 [==============================] - 0s 8ms/step - loss: 4.5859 - accuracy: 0.7036 - val_loss: 4.3310 - val_accuracy: 0.7074\n",
      "Epoch 40/100\n",
      "33/34 [============================>.] - ETA: 0s - loss: 4.5346 - accuracy: 0.7085"
     ]
    }
   ],
   "source": [
    "# Loss \n",
    "\n",
    "loss = sparse_categorical_crossentropy#TODO use the imported loss!\n",
    "\n",
    "# Optimizer\n",
    "\n",
    "optimizer = Adam() # A \"smart\" SGD variant \n",
    " \n",
    "# Compilation\n",
    "#############\n",
    "\n",
    "model.compile(optimizer=optimizer, loss=loss, metrics=[\"accuracy\"]) #TODO what to measure here?\n",
    "\n",
    "history = model.fit(x=Adatgyujto.x_train, y=Adatgyujto.y_train,\n",
    "                    validation_data=(Adatgyujto.x_valid, Adatgyujto.y_valid),\n",
    "                    epochs=100,\n",
    "                    batch_size=150)"
   ]
  },
  {
   "cell_type": "code",
   "execution_count": 34,
   "metadata": {},
   "outputs": [
    {
     "name": "stdout",
     "output_type": "stream",
     "text": [
      "WARNING:tensorflow:6 out of the last 6 calls to <function Model.make_predict_function.<locals>.predict_function at 0x7f5df0025160> triggered tf.function retracing. Tracing is expensive and the excessive number of tracings could be due to (1) creating @tf.function repeatedly in a loop, (2) passing tensors with different shapes, (3) passing Python objects instead of tensors. For (1), please define your @tf.function outside of the loop. For (2), @tf.function has experimental_relax_shapes=True option that relaxes argument shapes that can avoid unnecessary retracing. For (3), please refer to https://www.tensorflow.org/guide/function#controlling_retracing and https://www.tensorflow.org/api_docs/python/tf/function for  more details.\n",
      "ennek kene hogy legyen: 1\n"
     ]
    },
    {
     "data": {
      "text/plain": [
       "array([[0.15217763, 0.14556773, 0.7022546 ]], dtype=float32)"
      ]
     },
     "execution_count": 34,
     "metadata": {},
     "output_type": "execute_result"
    }
   ],
   "source": [
    "predikalando = 10\n",
    "\n",
    "pred = model.predict(Adatgyujto.x_test[predikalando].reshape(1,ablakmeret))\n",
    "\n",
    "print(\"ennek kene hogy legyen: \" + str(Adatgyujto.y_test[predikalando]))\n",
    "pred"
   ]
  },
  {
   "cell_type": "code",
   "execution_count": 35,
   "metadata": {},
   "outputs": [
    {
     "data": {
      "image/png": "[encoded data removed]",
      "text/plain": [
       "<Figure size 432x288 with 1 Axes>"
      ]
     },
     "metadata": {
      "needs_background": "light"
     },
     "output_type": "display_data"
    },
    {
     "data": {
      "image/png": "[encoded data removed]",
      "text/plain": [
       "<Figure size 432x288 with 1 Axes>"
      ]
     },
     "metadata": {
      "needs_background": "light"
     },
     "output_type": "display_data"
    }
   ],
   "source": [
    "import matplotlib.pyplot as plt\n",
    "\n",
    "def display_history(history):\n",
    "    plt.plot(history.history['accuracy']) #TODO what to measure here for training?\n",
    "    plt.plot(history.history['val_accuracy']) #TODO what to measure here for validation?\n",
    "    plt.title('Model accuracy')\n",
    "    plt.ylabel('accuracy')\n",
    "    plt.xlabel('epoch')\n",
    "    plt.legend(['train', 'valid'], loc='upper left')\n",
    "    plt.show()\n",
    "    plt.plot(history.history['loss'])\n",
    "    plt.plot(history.history['val_loss'])\n",
    "    plt.title('Model loss')\n",
    "    plt.ylabel('loss')\n",
    "    plt.xlabel('epoch')\n",
    "    plt.legend(['train', 'valid'], loc='upper left')\n",
    "    plt.show()\n",
    "    \n",
    "display_history(history)"
   ]
  },
  {
   "cell_type": "code",
   "execution_count": 36,
   "metadata": {},
   "outputs": [
    {
     "name": "stdout",
     "output_type": "stream",
     "text": [
      "INFO:tensorflow:Assets written to: KerasModels/DeepDenseNet/assets\n"
     ]
    }
   ],
   "source": [
    "model.save(\"KerasModels/DeepDenseNet\")"
   ]
  },
  {
   "cell_type": "code",
   "execution_count": null,
   "metadata": {},
   "outputs": [],
   "source": []
  }
 ],
 "metadata": {
  "kernelspec": {
   "display_name": "Python 3",
   "language": "python",
   "name": "python3"
  },
  "language_info": {
   "codemirror_mode": {
    "name": "ipython",
    "version": 3
   },
   "file_extension": ".py",
   "mimetype": "text/x-python",
   "name": "python",
   "nbconvert_exporter": "python",
   "pygments_lexer": "ipython3",
   "version": "3.8.5"
  }
 },
 "nbformat": 4,
 "nbformat_minor": 4
}
