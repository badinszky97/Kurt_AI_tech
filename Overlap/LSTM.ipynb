{
 "cells": [
  {
   "cell_type": "code",
   "execution_count": 1,
   "metadata": {},
   "outputs": [],
   "source": [
    "import random\n",
    "import numpy as np\n",
    "import scipy.io.wavfile\n",
    "import scipy.signal\n",
    "import numpy as np\n",
    "from tensorflow.keras.layers import Input, Dense, LSTM, MaxPool1D, Flatten\n",
    "from tensorflow.keras.models import Model\n",
    "from tensorflow.keras.optimizers import Adadelta, Adam\n",
    "from tensorflow.keras.losses import sparse_categorical_crossentropy\n",
    "from tensorflow.keras.regularizers import l1\n",
    "from tensorflow.keras.backend import clear_session\n",
    "import tensorflow as tf\n",
    "from tensorflow.keras.layers import Dropout\n",
    "\n",
    "\n",
    "class DataKeeper:\n",
    "    def __init__(self):\n",
    "        self.RawDatas = []\n",
    "        self.RawLabel = []\n",
    "    def AddNewType(self, data, label):\n",
    "        self.RawDatas.append(data)\n",
    "        self.RawLabel.append(label)\n",
    "    \n",
    "    @property\n",
    "    def KeptTypeCount(self):\n",
    "        return len(self.RawDatas)\n",
    "    \n",
    "    def GetData(self, index):\n",
    "        return self.RawDatas[index]\n",
    "    \n",
    "    def GenerateTrainTestValid(self, alpha=0.8):\n",
    "        #ha alpha 0.8 -> train: 80%, valid: 10%, test: 10%\n",
    "        SumRawDatas = []\n",
    "        #létrehozzuk a teljes adatállományt egy tömbben\n",
    "        for x in range(0, len(self.RawDatas)):\n",
    "            for element in self.RawDatas[x]:\n",
    "                SumRawDatas.append([element,self.RawLabel[x]])\n",
    "        #összekeverjük\n",
    "        random.shuffle(SumRawDatas)\n",
    "        #szétválogatjuk 3 részre\n",
    "        train = SumRawDatas[:int(len(SumRawDatas)*alpha)]\n",
    "        test_valid = SumRawDatas[int(len(SumRawDatas)*alpha):]\n",
    "        test = test_valid[:int(len(test_valid)*0.5)]\n",
    "        valid = test_valid[int(len(test_valid)*0.5):]\n",
    "        \n",
    "        #x_train, y_train létrehozása\n",
    "        self.x_train = []\n",
    "        self.y_train = []\n",
    "        for x in train:\n",
    "            self.x_train.append(x[0])\n",
    "            self.y_train.append(x[1])\n",
    "            \n",
    "        #x_test, y_test létrehozása\n",
    "        self.x_test = []\n",
    "        self.y_test = []\n",
    "        for x in test:\n",
    "            self.x_test.append(x[0])\n",
    "            self.y_test.append(x[1])\n",
    "            \n",
    "        #x_valid, y_valid létrehozása\n",
    "        self.x_valid = []\n",
    "        self.y_valid = []\n",
    "        for x in train:\n",
    "            self.x_valid.append(x[0])\n",
    "            self.y_valid.append(x[1])\n",
    "            \n",
    "        #numpy tömbbe konvertálás\n",
    "        self.x_train = np.array(self.x_train)\n",
    "        self.y_train = np.array(self.y_train)\n",
    "        \n",
    "        self.x_test = np.array(self.x_test)\n",
    "        self.y_test = np.array(self.y_test)\n",
    "        \n",
    "        self.x_valid = np.array(self.x_valid)\n",
    "        self.y_valid = np.array(self.y_valid) \n",
    "        print(\"Kész\")"
   ]
  },
  {
   "cell_type": "code",
   "execution_count": 2,
   "metadata": {},
   "outputs": [],
   "source": [
    "def WavToSplittedArray(filename=\"\", window_size = 100):\n",
    "    fs, wave = scipy.io.wavfile.read(filename) \n",
    "    windows_count = int(len(wave)/window_size)\n",
    "\n",
    "    kimenet = []\n",
    "    for i in range(windows_count):\n",
    "      buffer = []\n",
    "      for x in range(window_size):\n",
    "        buffer.append(wave[i*window_size+x])\n",
    "      kimenet.append(buffer)\n",
    "    return kimenet"
   ]
  },
  {
   "cell_type": "code",
   "execution_count": 4,
   "metadata": {},
   "outputs": [],
   "source": [
    "ablakmeret = 15000\n",
    "\n",
    "Adatgyujto = DataKeeper()\n",
    "\n",
    "Adatgyujto.AddNewType(WavToSplittedArray(\"sounds/1lehuzva_mono.wav\", ablakmeret), 0)\n",
    "Adatgyujto.AddNewType(WavToSplittedArray(\"sounds/2lehuzva_mono.wav\", ablakmeret), 1)\n",
    "Adatgyujto.AddNewType(WavToSplittedArray(\"sounds/alapjarat_mono.wav\", ablakmeret),2)\n"
   ]
  },
  {
   "cell_type": "code",
   "execution_count": 5,
   "metadata": {},
   "outputs": [
    {
     "name": "stdout",
     "output_type": "stream",
     "text": [
      "Kész\n"
     ]
    }
   ],
   "source": [
    "Adatgyujto.GenerateTrainTestValid()"
   ]
  },
  {
   "cell_type": "code",
   "execution_count": 8,
   "metadata": {},
   "outputs": [
    {
     "name": "stdout",
     "output_type": "stream",
     "text": [
      "Model: \"model\"\n",
      "_________________________________________________________________\n",
      "Layer (type)                 Output Shape              Param #   \n",
      "=================================================================\n",
      "input_2 (InputLayer)         [(None, 15000, 1)]        0         \n",
      "_________________________________________________________________\n",
      "lstm (LSTM)                  (None, 15000, 20)         1760      \n",
      "_________________________________________________________________\n",
      "lstm_1 (LSTM)                (None, 20)                3280      \n",
      "_________________________________________________________________\n",
      "dense (Dense)                (None, 50)                1050      \n",
      "_________________________________________________________________\n",
      "dense_1 (Dense)              (None, 30)                1530      \n",
      "_________________________________________________________________\n",
      "dense_2 (Dense)              (None, 3)                 93        \n",
      "=================================================================\n",
      "Total params: 7,713\n",
      "Trainable params: 7,713\n",
      "Non-trainable params: 0\n",
      "_________________________________________________________________\n"
     ]
    }
   ],
   "source": [
    "tf.compat.v1.reset_default_graph()\n",
    "clear_session            \n",
    "lstm_size = 20\n",
    "\n",
    "# Model\n",
    "#######\n",
    "\n",
    "input_shape=(ablakmeret, 1)\n",
    "\n",
    "x = Input(shape=input_shape)\n",
    "\n",
    "# Hidden layers\n",
    "\n",
    "#d0_layer = Dropout(.3)(x)\n",
    "\n",
    "lstmlayer = LSTM(lstm_size, return_sequences=True)(x)\n",
    "lstmlayer2 = LSTM(lstm_size, return_sequences=False)(lstmlayer)\n",
    "\n",
    "\n",
    "dense1 = Dense(units=50, activation=\"relu\")(lstmlayer2)\n",
    "#dropout3 = Dropout(rate=0.3)(dense1)\n",
    "dense2 = Dense(units=30, activation=\"relu\")(dense1)\n",
    "#dropout4 = Dropout(rate=0.3)(dense2)\n",
    "predictions = Dense(units = 3, activation='softmax')(dense2)\n",
    "\n",
    "\n",
    "\n",
    "model = Model(inputs=x, outputs=predictions)\n",
    "\n",
    "\n",
    "model.summary()\n"
   ]
  },
  {
   "cell_type": "code",
   "execution_count": null,
   "metadata": {},
   "outputs": [
    {
     "name": "stdout",
     "output_type": "stream",
     "text": [
      "Epoch 1/10\n",
      "10/10 [==============================] - 273s 28s/step - loss: 1.0421 - accuracy: 0.6209 - val_loss: 0.8991 - val_accuracy: 0.7100\n",
      "Epoch 2/10\n",
      "10/10 [==============================] - 266s 27s/step - loss: 0.8853 - accuracy: 0.6910 - val_loss: 0.8097 - val_accuracy: 0.7100\n",
      "Epoch 3/10\n",
      "10/10 [==============================] - 285s 29s/step - loss: 0.8092 - accuracy: 0.7075 - val_loss: 0.8092 - val_accuracy: 0.7100\n",
      "Epoch 4/10\n",
      " 4/10 [===========>..................] - ETA: 2:46 - loss: 0.7996 - accuracy: 0.7179"
     ]
    }
   ],
   "source": [
    "# Loss \n",
    "\n",
    "loss = sparse_categorical_crossentropy#TODO use the imported loss!\n",
    "\n",
    "# Optimizer\n",
    "\n",
    "optimizer = Adam() # A \"smart\" SGD variant \n",
    " \n",
    "# Compilation\n",
    "#############\n",
    "\n",
    "model.compile(optimizer=optimizer, loss=loss, metrics=[\"accuracy\"]) #TODO what to measure here?\n",
    "\n",
    "#x_train.reshape(Adatgyujto.x_train.shape[0], 1, Adatgyujto.x_train.shape[1])\n",
    "\n",
    "\n",
    "history = model.fit(x=Adatgyujto.x_train, y=Adatgyujto.y_train,\n",
    "                    validation_data=(Adatgyujto.x_valid, Adatgyujto.y_valid),\n",
    "                    epochs=10,\n",
    "                    batch_size=50)"
   ]
  },
  {
   "cell_type": "code",
   "execution_count": 22,
   "metadata": {},
   "outputs": [
    {
     "name": "stdout",
     "output_type": "stream",
     "text": [
      "ennek kene hogy legyen: 1\n"
     ]
    },
    {
     "data": {
      "text/plain": [
       "array([[0.15152241, 0.1194277 , 0.7290499 ]], dtype=float32)"
      ]
     },
     "execution_count": 22,
     "metadata": {},
     "output_type": "execute_result"
    }
   ],
   "source": [
    "predikalando = 18\n",
    "\n",
    "pred = model.predict(Adatgyujto.x_test[predikalando].reshape(1,ablakmeret))\n",
    "\n",
    "print(\"ennek kene hogy legyen: \" + str(Adatgyujto.y_test[predikalando]))\n",
    "pred"
   ]
  },
  {
   "cell_type": "code",
   "execution_count": 23,
   "metadata": {},
   "outputs": [
    {
     "data": {
      "image/png": "[encoded data removed]",
      "text/plain": [
       "<Figure size 432x288 with 1 Axes>"
      ]
     },
     "metadata": {
      "needs_background": "light"
     },
     "output_type": "display_data"
    },
    {
     "data": {
      "image/png": "[encoded data removed]",
      "text/plain": [
       "<Figure size 432x288 with 1 Axes>"
      ]
     },
     "metadata": {
      "needs_background": "light"
     },
     "output_type": "display_data"
    }
   ],
   "source": [
    "import matplotlib.pyplot as plt\n",
    "\n",
    "def display_history(history):\n",
    "    plt.plot(history.history['accuracy'])\n",
    "    plt.plot(history.history['val_accuracy'])\n",
    "    plt.title('Model accuracy')\n",
    "    plt.ylabel('accuracy')\n",
    "    plt.xlabel('epoch')\n",
    "    plt.legend(['train', 'valid'], loc='upper left')\n",
    "    plt.show()\n",
    "    plt.plot(history.history['loss'])\n",
    "    plt.plot(history.history['val_loss'])\n",
    "    plt.title('Model loss')\n",
    "    plt.ylabel('loss')\n",
    "    plt.xlabel('epoch')\n",
    "    plt.legend(['train', 'valid'], loc='upper left')\n",
    "    plt.show()\n",
    "    \n",
    "display_history(history)"
   ]
  },
  {
   "cell_type": "code",
   "execution_count": 24,
   "metadata": {},
   "outputs": [],
   "source": [
    "model.save(\"KerasModels/LSTM.h5\")"
   ]
  },
  {
   "cell_type": "code",
   "execution_count": null,
   "metadata": {},
   "outputs": [],
   "source": []
  }
 ],
 "metadata": {
  "kernelspec": {
   "display_name": "Python 3",
   "language": "python",
   "name": "python3"
  },
  "language_info": {
   "codemirror_mode": {
    "name": "ipython",
    "version": 3
   },
   "file_extension": ".py",
   "mimetype": "text/x-python",
   "name": "python",
   "nbconvert_exporter": "python",
   "pygments_lexer": "ipython3",
   "version": "3.8.5"
  }
 },
 "nbformat": 4,
 "nbformat_minor": 4
}
