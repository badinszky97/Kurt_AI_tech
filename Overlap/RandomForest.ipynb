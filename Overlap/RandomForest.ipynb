{
 "cells": [
  {
   "cell_type": "code",
   "execution_count": 1,
   "metadata": {},
   "outputs": [],
   "source": [
    "import random\n",
    "import numpy as np\n",
    "import scipy.io.wavfile\n",
    "import scipy.signal\n",
    "import numpy as np\n",
    "from tensorflow.keras.layers import Input, Dense\n",
    "from tensorflow.keras.models import Model\n",
    "from tensorflow.keras.optimizers import Adadelta, Adam\n",
    "from tensorflow.keras.losses import sparse_categorical_crossentropy #TODO what to import here?\n",
    "from tensorflow.keras.regularizers import l1\n",
    "from tensorflow.keras.backend import clear_session\n",
    "import tensorflow as tf\n",
    "from tensorflow.keras.layers import Dropout\n",
    "from sklearn.ensemble import RandomForestClassifier\n",
    "\n",
    "class DataKeeper:\n",
    "    def __init__(self):\n",
    "        self.RawDatas = []\n",
    "        self.RawLabel = []\n",
    "    def AddNewType(self, data, label):\n",
    "        self.RawDatas.append(data)\n",
    "        self.RawLabel.append(label)\n",
    "    \n",
    "    @property\n",
    "    def KeptTypeCount(self):\n",
    "        return len(self.RawDatas)\n",
    "    \n",
    "    def GetData(self, index):\n",
    "        return self.RawDatas[index]\n",
    "    \n",
    "    def GenerateTrainTestValid(self, alpha=0.8):\n",
    "        #if aplha is 0.8 -> train is 80%, valid is 10%, test is 10%\n",
    "        SumRawDatas = []\n",
    "        #létrehozzuk a teljes adatállományt egy tömbben\n",
    "        for x in range(0, len(self.RawDatas)):\n",
    "            for element in self.RawDatas[x]:\n",
    "                SumRawDatas.append([element,self.RawLabel[x]])\n",
    "        #összekeverjük\n",
    "        random.shuffle(SumRawDatas)\n",
    "        #szétválogatjuk 3 részre\n",
    "        train = SumRawDatas[:int(len(SumRawDatas)*alpha)]\n",
    "        test_valid = SumRawDatas[int(len(SumRawDatas)*alpha):]\n",
    "        test = test_valid[:int(len(test_valid)*0.5)]\n",
    "        valid = test_valid[int(len(test_valid)*0.5):]\n",
    "        \n",
    "        #x_train, y_train létrehozása\n",
    "        self.x_train = []\n",
    "        self.y_train = []\n",
    "        for x in train:\n",
    "            self.x_train.append(x[0])\n",
    "            self.y_train.append(x[1])\n",
    "            \n",
    "        #x_test, y_test létrehozása\n",
    "        self.x_test = []\n",
    "        self.y_test = []\n",
    "        for x in test:\n",
    "            self.x_test.append(x[0])\n",
    "            self.y_test.append(x[1])\n",
    "            \n",
    "        #x_valid, y_valid létrehozása\n",
    "        self.x_valid = []\n",
    "        self.y_valid = []\n",
    "        for x in train:\n",
    "            self.x_valid.append(x[0])\n",
    "            self.y_valid.append(x[1])\n",
    "            \n",
    "        #numpy tömbbe konvertálás\n",
    "        self.x_train = np.array(self.x_train)\n",
    "        self.y_train = np.array(self.y_train)\n",
    "        \n",
    "        self.x_test = np.array(self.x_test)\n",
    "        self.y_test = np.array(self.y_test)\n",
    "        \n",
    "        self.x_valid = np.array(self.x_valid)\n",
    "        self.y_valid = np.array(self.y_valid) \n",
    "        print(\"Kész\")"
   ]
  },
  {
   "cell_type": "code",
   "execution_count": 2,
   "metadata": {},
   "outputs": [],
   "source": [
    "def WavToSplittedArray(filename=\"\", window_size = 100):\n",
    "    fs, wave = scipy.io.wavfile.read(filename) \n",
    "    windows_count = int(len(wave)/window_size)\n",
    "\n",
    "    kimenet = []\n",
    "    for i in range(windows_count):\n",
    "      buffer = []\n",
    "      for x in range(window_size):\n",
    "        buffer.append(wave[i*window_size+x])\n",
    "      kimenet.append(buffer)\n",
    "    return kimenet"
   ]
  },
  {
   "cell_type": "code",
   "execution_count": 5,
   "metadata": {},
   "outputs": [],
   "source": [
    "ablakmeret = 1500\n",
    "\n",
    "Adatgyujto = DataKeeper()\n",
    "\n",
    "Adatgyujto.AddNewType(WavToSplittedArray(\"sounds/1lehuzva_mono.wav\", ablakmeret), 0)\n",
    "Adatgyujto.AddNewType(WavToSplittedArray(\"sounds/2lehuzva_mono.wav\", ablakmeret), 1)\n",
    "Adatgyujto.AddNewType(WavToSplittedArray(\"sounds/alapjarat_mono.wav\", ablakmeret),2)\n"
   ]
  },
  {
   "cell_type": "code",
   "execution_count": 6,
   "metadata": {},
   "outputs": [
    {
     "name": "stdout",
     "output_type": "stream",
     "text": [
      "Kész\n"
     ]
    }
   ],
   "source": [
    "Adatgyujto.GenerateTrainTestValid()"
   ]
  },
  {
   "cell_type": "code",
   "execution_count": 7,
   "metadata": {},
   "outputs": [
    {
     "data": {
      "text/plain": [
       "RandomForestClassifier()"
      ]
     },
     "execution_count": 7,
     "metadata": {},
     "output_type": "execute_result"
    }
   ],
   "source": [
    "model = RandomForestClassifier(n_estimators=100)\n",
    "\n",
    "model.fit(X=Adatgyujto.x_train, y=Adatgyujto.y_train)\n"
   ]
  },
  {
   "cell_type": "code",
   "execution_count": 8,
   "metadata": {},
   "outputs": [
    {
     "name": "stdout",
     "output_type": "stream",
     "text": [
      "ennek kene hogy legyen: 2\n",
      "[2]\n"
     ]
    }
   ],
   "source": [
    "predikalando = 60\n",
    "\n",
    "pred = model.predict(Adatgyujto.x_test[predikalando].reshape(1,ablakmeret))\n",
    "\n",
    "print(\"ennek kene hogy legyen: \" + str(Adatgyujto.y_test[predikalando]))\n",
    "print(pred)"
   ]
  },
  {
   "cell_type": "code",
   "execution_count": 9,
   "metadata": {},
   "outputs": [
    {
     "ename": "FileNotFoundError",
     "evalue": "[Errno 2] No such file or directory: 'KerasModels/RandomForest/model.pkl'",
     "output_type": "error",
     "traceback": [
      "\u001b[0;31m---------------------------------------------------------------------------\u001b[0m",
      "\u001b[0;31mFileNotFoundError\u001b[0m                         Traceback (most recent call last)",
      "\u001b[0;32m<ipython-input-9-a625df67afb4>\u001b[0m in \u001b[0;36m<module>\u001b[0;34m\u001b[0m\n\u001b[1;32m      1\u001b[0m \u001b[0;32mimport\u001b[0m \u001b[0mpickle\u001b[0m\u001b[0;34m\u001b[0m\u001b[0;34m\u001b[0m\u001b[0m\n\u001b[1;32m      2\u001b[0m \u001b[0mpkl_filename\u001b[0m \u001b[0;34m=\u001b[0m \u001b[0;34m\"KerasModels/RandomForest/model.pkl\"\u001b[0m\u001b[0;34m\u001b[0m\u001b[0;34m\u001b[0m\u001b[0m\n\u001b[0;32m----> 3\u001b[0;31m \u001b[0;32mwith\u001b[0m \u001b[0mopen\u001b[0m\u001b[0;34m(\u001b[0m\u001b[0mpkl_filename\u001b[0m\u001b[0;34m,\u001b[0m \u001b[0;34m'wb'\u001b[0m\u001b[0;34m)\u001b[0m \u001b[0;32mas\u001b[0m \u001b[0mfile\u001b[0m\u001b[0;34m:\u001b[0m\u001b[0;34m\u001b[0m\u001b[0;34m\u001b[0m\u001b[0m\n\u001b[0m\u001b[1;32m      4\u001b[0m     \u001b[0mpickle\u001b[0m\u001b[0;34m.\u001b[0m\u001b[0mdump\u001b[0m\u001b[0;34m(\u001b[0m\u001b[0mmodel\u001b[0m\u001b[0;34m,\u001b[0m \u001b[0mfile\u001b[0m\u001b[0;34m)\u001b[0m\u001b[0;34m\u001b[0m\u001b[0;34m\u001b[0m\u001b[0m\n",
      "\u001b[0;31mFileNotFoundError\u001b[0m: [Errno 2] No such file or directory: 'KerasModels/RandomForest/model.pkl'"
     ]
    }
   ],
   "source": [
    "import pickle\n",
    "pkl_filename = \"KerasModels/RandomForest/model.pkl\"\n",
    "with open(pkl_filename, 'wb') as file:\n",
    "    pickle.dump(model, file)"
   ]
  },
  {
   "cell_type": "code",
   "execution_count": 10,
   "metadata": {},
   "outputs": [
    {
     "data": {
      "text/plain": [
       "0.7332268370607029"
      ]
     },
     "execution_count": 10,
     "metadata": {},
     "output_type": "execute_result"
    }
   ],
   "source": [
    "model.score(Adatgyujto.x_test,Adatgyujto.y_test)"
   ]
  },
  {
   "cell_type": "code",
   "execution_count": null,
   "metadata": {},
   "outputs": [],
   "source": []
  }
 ],
 "metadata": {
  "kernelspec": {
   "display_name": "Python 3",
   "language": "python",
   "name": "python3"
  },
  "language_info": {
   "codemirror_mode": {
    "name": "ipython",
    "version": 3
   },
   "file_extension": ".py",
   "mimetype": "text/x-python",
   "name": "python",
   "nbconvert_exporter": "python",
   "pygments_lexer": "ipython3",
   "version": "3.8.5"
  }
 },
 "nbformat": 4,
 "nbformat_minor": 4
}
